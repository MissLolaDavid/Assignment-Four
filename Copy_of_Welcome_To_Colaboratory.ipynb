{
  "nbformat": 4,
  "nbformat_minor": 0,
  "metadata": {
    "colab": {
      "name": "Copy of Welcome To Colaboratory",
      "provenance": [],
      "collapsed_sections": [],
      "include_colab_link": true
    },
    "kernelspec": {
      "display_name": "Python 3",
      "name": "python3"
    }
  },
  "cells": [
    {
      "cell_type": "markdown",
      "metadata": {
        "id": "view-in-github",
        "colab_type": "text"
      },
      "source": [
        "<a href=\"https://colab.research.google.com/github/MissLolaDavid/Assignment-Four/blob/main/Copy_of_Welcome_To_Colaboratory.ipynb\" target=\"_parent\"><img src=\"https://colab.research.google.com/assets/colab-badge.svg\" alt=\"Open In Colab\"/></a>"
      ]
    },
    {
      "cell_type": "code",
      "metadata": {
        "colab": {
          "base_uri": "https://localhost:8080/"
        },
        "id": "UfyqVGqx_DuJ",
        "outputId": "2e18cde6-a43f-4e0c-d125-a784fd901395"
      },
      "source": [
        "# Enter Full names\n",
        "First_Name = input(\"Enter First Name: \")\n",
        "Middle_Name = input(\"Enter Middle Name: \")\n",
        "Last_Name = input(\"Enter Last Name: \")\n",
        "fullnames = (First_Name + \" \" + Middle_Name + \" \" + Last_Name)\n",
        "# Enter Physical Address\n",
        "Physical_Address = input(\"Enter Physical Address: \")\n",
        "# Enter Name of City\n",
        "City = input(\"Enter Name of City: \")\n",
        "# Enter Name of State\n",
        "State = input(\"Enter Name of State: \")\n",
        "# Enter Zipcode\n",
        "Zipcode = input(\"Enter Zipcode: \")\n",
        "\n",
        "# Enter the Price of the House you wish to buy\n",
        "Price = int(input(\"Enter the New House Price: \"))\n",
        "# Enter the credit score\n",
        "CreditScore = int(input(\"Enter the credit score: \"))\n",
        "print('Fullnames: ' + fullnames)\n",
        "print('Physical Address: ' + Physical_Address)\n",
        "print('City: ' + City + ' ' + 'State: ' + State + ' ' + 'Zipcode: ' + Zipcode)\n",
        "\n",
        "# Qualify for loans with the best interest rates\n",
        "if CreditScore >= 780 and CreditScore <= 850:\n",
        "    down_payment = 0\n",
        "    print(\"New House Price: \" + str(Price))\n",
        "    print(\"Down Payment: \" + \"Zero Down Payment\")\n",
        "    print(\"Credit Score: \" + str(CreditScore))\n",
        "    print(\"Credit Status: \" + \"Excellent\")\n",
        "\n",
        "# Usually qualify for loans with best interest rates\n",
        "elif CreditScore <= 779 and CreditScore >= 740:\n",
        "    down_payment = 0.2 * Price\n",
        "    print(\"New House Price: \" + str(Price))\n",
        "    print(\"Down Payment: \" + str(down_payment))\n",
        "    print(\"Credit Score: \" + str(CreditScore))\n",
        "    print(\"Credit Status: \" + \"Very Good\")\n",
        "\n",
        "# May face slightly higher loan interest rates\n",
        "elif CreditScore <= 739 and CreditScore >= 720:\n",
        "    down_payment = 0.3 * Price\n",
        "    print(\"New House Price: \" + str(Price))\n",
        "    print(\"Down Payment: \" + str(down_payment))\n",
        "    print(\"Credit Score: \" + str(CreditScore))\n",
        "    print(\"Credit Status: \" + \"Above Average\")\n",
        "\n",
        "# May qualify for most loans of higher interest rates\n",
        "elif CreditScore <= 719 and CreditScore >= 680:\n",
        "    down_payment = 0.6 * Price\n",
        "    print(\"New House Price: \" + str(Price))\n",
        "    print(\"Down Payment: \" + str(down_payment))\n",
        "    print(\"Credit Score: \" + str(CreditScore))\n",
        "    print(\"Credit Status: \" + \"Average\")\n",
        "\n",
        "# May qualify for most loans at significant higher interest rates\n",
        "elif CreditScore <= 679 and CreditScore >= 620:\n",
        "    down_payment = 0.18 * Price\n",
        "    print(\"New House Price: \" + str(Price))\n",
        "    print(\"Down Payment: \" + str(down_payment))\n",
        "    print(\"Credit Score: \" + str(CreditScore))\n",
        "    print(\"Credit Status: \" + \"Below Average\")\n",
        "\n",
        "# Usually has some credit issues; will probably not qualify for most loans\n",
        "elif CreditScore <= 619 and CreditScore >= 580:\n",
        "    down_payment = 0.20 * Price\n",
        "    print(\"New House Price: \" + str(Price))\n",
        "    print(\"Down Payment: \" + str(down_payment))\n",
        "    print(\"Credit Score: \" + str(CreditScore))\n",
        "    print(\"Credit Status: \" + \"Poor Credit Score\")\n",
        "\n",
        "# Facing extreme credit issue\n",
        "elif CreditScore < 520:\n",
        "    down_payment = 0.25 * Price\n",
        "    print(\"New House Price: \" + str(Price))\n",
        "    print(\"Down Payment: \" + str(down_payment))\n",
        "    print(\"Credit Score: \" + str(CreditScore))\n",
        "    print(\"Credit Status: \" + \"Poor Credit Score\")\n",
        "\n",
        "print(\"CONGRATULATIONS- YOU NOW OWN YOUR DREAM HOME- \" + str(fullnames))"
      ],
      "execution_count": null,
      "outputs": [
        {
          "output_type": "stream",
          "text": [
            "Enter First Name: James\n",
            "Enter Middle Name: Mutison\n",
            "Enter Last Name: Mutisya\n",
            "Enter Physical Address: 435 Hidden Place\n",
            "Enter Name of City: Kalamzoo\n",
            "Enter Name of State: Michigan\n",
            "Enter Zipcode: 49001\n",
            "Enter the New House Price: 245000\n",
            "Enter the credit score: 679\n",
            "Fullnames: James Mutison Mutisya\n",
            "Physical Address: 435 Hidden Place\n",
            "City: Kalamzoo State: Michigan Zipcode: 49001\n",
            "New House Price: 245000\n",
            "Down Payment: 44100.0\n",
            "Credit Score: 679\n",
            "Credit Status: Below Average\n",
            "CONGRATULATIONS- YOU NOW OWN YOUR DREAM HOME- James Mutison Mutisya\n"
          ],
          "name": "stdout"
        }
      ]
    }
  ]
}